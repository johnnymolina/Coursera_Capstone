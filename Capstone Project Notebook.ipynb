{
 "cells": [
  {
   "cell_type": "markdown",
   "metadata": {},
   "source": [
    "<a href=\"https://www.bigdatauniversity.com\"><img src=\"https://ibm.box.com/shared/static/cw2c7r3o20w9zn8gkecaeyjhgw3xdgbj.png\" width=\"400\" align=\"center\"></a>\n",
    "\n",
    "<h1><center>Peer-graded Assignment: Capstone Project Notebook</h1>\n",
    "\n",
    "This Jupyter Notebook was created in Anaconda Environment and will be used mainly for Capstone Projec and pushed to\n",
    "Github repository called Coursera_Capstone.\n",
    "\n",
    "<h2>Jupyter Notebook is composed of the following: </h2>\n",
    "\n",
    "<ol>\n",
    "    <li> Import Pandas library</li>\n",
    "    <li> Import Numnpy library</li>        \n",
    "    <li> Print Hello Capstone Project Course Statement/li>    \n",
    "    <li> Push Notebook to Github repository</li>\n",
    "    <li> Share Notebook</li>\n",
    "</ol>\n",
    "        \n"
   ]
  },
  {
   "cell_type": "code",
   "execution_count": 3,
   "metadata": {},
   "outputs": [],
   "source": [
    "# import libraries\n",
    "\n",
    "import pandas as pd\n",
    "import numpy as np"
   ]
  },
  {
   "cell_type": "markdown",
   "metadata": {},
   "source": [
    "### Hello Capstone Project Course!"
   ]
  }
 ],
 "metadata": {
  "kernelspec": {
   "display_name": "Python 3",
   "language": "python",
   "name": "python3"
  },
  "language_info": {
   "codemirror_mode": {
    "name": "ipython",
    "version": 3
   },
   "file_extension": ".py",
   "mimetype": "text/x-python",
   "name": "python",
   "nbconvert_exporter": "python",
   "pygments_lexer": "ipython3",
   "version": "3.7.1"
  }
 },
 "nbformat": 4,
 "nbformat_minor": 2
}
